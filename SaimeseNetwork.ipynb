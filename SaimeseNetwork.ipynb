{
 "cells": [
  {
   "cell_type": "code",
   "execution_count": null,
   "metadata": {
    "colab": {
     "base_uri": "https://localhost:8080/"
    },
    "id": "17-z77gQ_S9Z",
    "outputId": "6cc8d7cb-672d-45c1-9985-1ffa6e904e95"
   },
   "outputs": [
    {
     "name": "stdout",
     "output_type": "stream",
     "text": [
      "\u001b[?25l   \u001b[90m━━━━━━━━━━━━━━━━━━━━━━━━━━━━━━━━━━━━━━━━\u001b[0m \u001b[32m0.0/926.4 kB\u001b[0m \u001b[31m?\u001b[0m eta \u001b[36m-:--:--\u001b[0m\r\u001b[2K   \u001b[90m━━━━━━━━━━━━━━━━━━━━━━━━━━━━━━━━━━━━━━━━\u001b[0m \u001b[32m926.4/926.4 kB\u001b[0m \u001b[31m43.4 MB/s\u001b[0m eta \u001b[36m0:00:00\u001b[0m\n",
      "\u001b[?25h"
     ]
    }
   ],
   "source": [
    "!pip install -q torchmetrics"
   ]
  },
  {
   "cell_type": "code",
   "execution_count": null,
   "metadata": {
    "id": "xmFUD-NQE0qj"
   },
   "outputs": [],
   "source": [
    "import pandas as pd\n",
    "import matplotlib.pyplot as plt\n",
    "import seaborn as sns\n",
    "import torch\n",
    "from torch.utils.data import Dataset, DataLoader\n",
    "import torch.nn as nn\n",
    "import torch.nn.functional as F\n",
    "import torch.optim as optim\n",
    "from sklearn.model_selection import train_test_split\n",
    "from sklearn.metrics import confusion_matrix, ConfusionMatrixDisplay\n",
    "from torchmetrics.classification import BinaryAccuracy, F1Score, Precision, Recall\n",
    "from torchmetrics import MeanMetric\n"
   ]
  },
  {
   "cell_type": "code",
   "execution_count": null,
   "metadata": {
    "id": "XAqtHq7dFQIP"
   },
   "outputs": [],
   "source": [
    "data = pd.read_csv('dataset.csv')"
   ]
  },
  {
   "cell_type": "markdown",
   "metadata": {
    "id": "FkaODXvtzAeX"
   },
   "source": [
    "# Data preparation"
   ]
  },
  {
   "cell_type": "code",
   "execution_count": null,
   "metadata": {
    "id": "uuT8qFMbDQL7"
   },
   "outputs": [],
   "source": [
    "# data.reset_index(drop=True, inplace=True)\n",
    "# data"
   ]
  },
  {
   "cell_type": "code",
   "execution_count": null,
   "metadata": {
    "colab": {
     "base_uri": "https://localhost:8080/"
    },
    "id": "S74juaPyF5kj",
    "outputId": "ade91148-2555-4383-d712-67728021f2a0"
   },
   "outputs": [
    {
     "name": "stdout",
     "output_type": "stream",
     "text": [
      "Train data: 8508 samples, Test data: 2198 samples\n"
     ]
    }
   ],
   "source": [
    "# unique speaker in train and test\n",
    "unique_speakers = data['speaker_id'].unique()\n",
    "train_speakers, test_speakers = train_test_split(unique_speakers, test_size=0.2, random_state=42)\n",
    "train_data = data[data['speaker_id'].isin(train_speakers)]\n",
    "test_data = data[data['speaker_id'].isin(test_speakers)]\n",
    "assert set(train_data['speaker_id']).isdisjoint(set(test_data['speaker_id'])), \"Overlap in train and test speakers!\"\n",
    "print(f\"Train data: {len(train_data)} samples, Test data: {len(test_data)} samples\")\n"
   ]
  },
  {
   "cell_type": "code",
   "execution_count": null,
   "metadata": {
    "colab": {
     "base_uri": "https://localhost:8080/"
    },
    "id": "as3Bpbv16ulA",
    "outputId": "609ba8a1-6851-4105-f0e9-36b5d051ec60"
   },
   "outputs": [
    {
     "name": "stdout",
     "output_type": "stream",
     "text": [
      "Training data: 6806 samples, Validation data: 1702 samples\n"
     ]
    }
   ],
   "source": [
    "# training and validation split\n",
    "training_data, val_data = train_test_split(train_data, test_size=0.2, random_state=42)\n",
    "print(f\"Training data: {len(training_data)} samples, Validation data: {len(val_data)} samples\")\n"
   ]
  },
  {
   "cell_type": "code",
   "execution_count": null,
   "metadata": {
    "id": "bRPIYcaJGDOP"
   },
   "outputs": [],
   "source": [
    "# Defining a custom dataset for Siamese network pairs\n",
    "class DysphoniaPairsDataset(Dataset):\n",
    "    def __init__(self, data):\n",
    "        self.data = data\n",
    "        self.embeddings = data['embedding'].apply(lambda x: torch.tensor(eval(x), dtype=torch.float32))  # Assuming embeddings are stored as strings\n",
    "        self.labels = data['category'].map({'healthy': 0, 'patient': 1})\n",
    "        self.languages = data['language']\n",
    "        self.gender = data['gender']\n",
    "\n",
    "    def __len__(self):\n",
    "        return len(self.data)\n",
    "\n",
    "    def __getitem__(self, idx):\n",
    "        # Get two random samples, ensure one is similar or dissimilar based on idx parity\n",
    "        row1 = self.data.iloc[idx]\n",
    "        label1 = self.labels.iloc[idx]\n",
    "        language1 = self.languages.iloc[idx]\n",
    "        gender1 = self.gender.iloc[idx]\n",
    "\n",
    "        # Create positive or negative pairs\n",
    "        if idx % 2 == 0:  # Positive pair\n",
    "            row2 = self.data[(self.labels == label1) & (self.gender == gender1) & (self.languages == language1)].sample(1).iloc[0]\n",
    "            label = 1\n",
    "        else:  # Negative pair\n",
    "            row2 = self.data[self.labels != label1].sample(1).iloc[0]\n",
    "            label = 0\n",
    "\n",
    "        # Convert to tensors\n",
    "        embedding1 = torch.tensor(eval(row1['embedding']), dtype=torch.float32)\n",
    "        embedding2 = torch.tensor(eval(row2['embedding']), dtype=torch.float32)\n",
    "\n",
    "        return embedding1, embedding2, torch.tensor(label, dtype=torch.float32)\n"
   ]
  },
  {
   "cell_type": "code",
   "execution_count": null,
   "metadata": {
    "id": "aRJ7V1N368p8"
   },
   "outputs": [],
   "source": [
    "# Create DataLoaders for traininin, validation and testing.\n",
    "train_dataset = DysphoniaPairsDataset(train_data)\n",
    "val_dataset = DysphoniaPairsDataset(val_data)\n",
    "test_dataset = DysphoniaPairsDataset(test_data)\n",
    "train_loader = DataLoader(train_dataset, batch_size=64, shuffle=True)\n",
    "val_loader = DataLoader(val_dataset, batch_size=64, shuffle=False)\n",
    "test_loader = DataLoader(test_dataset, batch_size=64, shuffle=False)"
   ]
  },
  {
   "cell_type": "markdown",
   "metadata": {
    "id": "wby-fKnmdNrJ"
   },
   "source": [
    "SIAMESE NETWORK"
   ]
  },
  {
   "cell_type": "markdown",
   "metadata": {
    "id": "p3Qmtg0DzEaO"
   },
   "source": [
    "# Model Architecture\n"
   ]
  },
  {
   "cell_type": "code",
   "execution_count": null,
   "metadata": {
    "id": "r_kc3esgc1MU"
   },
   "outputs": [],
   "source": [
    "#------------------------------------------------------------------------\n",
    "#            Model Architecture\n",
    "#------------------------------------------------------------------------\n",
    "\n",
    "# Define the sub-network for embedding generation\n",
    "class EmbeddingNet(nn.Module):\n",
    "    def __init__(self, input_dim, output_dim=192):\n",
    "        super(EmbeddingNet, self).__init__()\n",
    "        self.conv = nn.Sequential(\n",
    "            nn.Conv1d(1, 64, kernel_size=5, stride=1, padding=2),  # 1 input channel, 64 filters\n",
    "            nn.LeakyReLU(0.2),\n",
    "            nn.BatchNorm1d(64),\n",
    "            nn.Dropout(p=0.3),\n",
    "\n",
    "            nn.Conv1d(64, 128, kernel_size=5, stride=1, padding=2),  # 64 input channels, 128 filters\n",
    "            nn.LeakyReLU(0.2),\n",
    "            nn.BatchNorm1d(128),\n",
    "            nn.Dropout(p=0.3),\n",
    "\n",
    "            nn.Conv1d(128, 256, kernel_size=5, stride=1, padding=2),  # 128 input channels, 256 filters\n",
    "            nn.LeakyReLU(0.2),\n",
    "            nn.BatchNorm1d(256),\n",
    "            nn.Dropout(p=0.4),\n",
    "\n",
    "            nn.Conv1d(256, 512, kernel_size=5, stride=1, padding=2), # 256 input channels, 512 filters\n",
    "            nn.LeakyReLU(0.2),\n",
    "            nn.BatchNorm1d(512),\n",
    "            nn.Dropout(p=0.4)\n",
    "        )\n",
    "        self.global_pool = nn.AdaptiveAvgPool1d(1)  # Pool to (batch_size, channels, 1)\n",
    "        self.fc = nn.Linear(512, output_dim)  # Final dense layer to map to output_dim\n",
    "\n",
    "    def forward(self, x):\n",
    "        # Input shape: (batch_size, input_dim)\n",
    "        x = x.unsqueeze(1)  # Reshape to (batch_size, 1, input_dim) for Conv1D\n",
    "        x = self.conv(x)  # Apply Conv1D layers\n",
    "        x = self.global_pool(x)  # Global average pooling: (batch_size, channels, 1)\n",
    "        x = x.squeeze(-1)  # Remove last dimension, shape becomes (batch_size, channels)\n",
    "        x = self.fc(x)  # Fully connected layer to get the final embedding\n",
    "        return x"
   ]
  },
  {
   "cell_type": "code",
   "execution_count": null,
   "metadata": {
    "id": "e6T4Ng-PPx0y"
   },
   "outputs": [],
   "source": [
    "# saimese network\n",
    "class SiameseNetwork(nn.Module):\n",
    "    def __init__(self, input_dim, embedding_dim):\n",
    "        super(SiameseNetwork, self).__init__()\n",
    "        self.embedding_net = EmbeddingNet(input_dim, embedding_dim)\n",
    "\n",
    "    def forward(self, input1, input2):\n",
    "        # Get embeddings for both inputs\n",
    "        output1 = self.embedding_net(input1)\n",
    "        output2 = self.embedding_net(input2)\n",
    "        # Calculate cosine similarity\n",
    "        similarity = F.cosine_similarity(output1, output2, dim=1)\n",
    "        return similarity"
   ]
  },
  {
   "cell_type": "markdown",
   "metadata": {
    "id": "nz1K65iEdQRt"
   },
   "source": [
    "Updating the loss function"
   ]
  },
  {
   "cell_type": "code",
   "execution_count": null,
   "metadata": {
    "id": "HoY3PltpdKa-"
   },
   "outputs": [],
   "source": [
    "# loss computation by contrastive loss\n",
    "class CosineContrastiveLoss(nn.Module):\n",
    "    def __init__(self, margin=0.5):\n",
    "        super(CosineContrastiveLoss, self).__init__()\n",
    "        self.margin = margin\n",
    "\n",
    "    def forward(self, similarity, label):\n",
    "        # For similar pairs (label == 1), maximize similarity\n",
    "        # For dissimilar pairs (label == 0), ensure similarity is below margin\n",
    "        loss = label * (1 - similarity) + (1 - label) * F.relu(similarity - self.margin)\n",
    "        return loss.mean()"
   ]
  },
  {
   "cell_type": "code",
   "execution_count": null,
   "metadata": {
    "id": "NRMkeVDoAffH"
   },
   "outputs": [],
   "source": [
    "# Function to implement dynamic cosine similarity threshold\n",
    "def dynamic_cosine_threshold(similarity, batch_similarity):\n",
    "    \"\"\"\n",
    "    Adjust the threshold based on the batch's similarity score distribution.\n",
    "    In this case, using the mean of the batch's cosine similarity.\n",
    "    \"\"\"\n",
    "    threshold = batch_similarity.mean().item()  # Dynamic threshold based on mean similarity of the batch\n",
    "    return (similarity > threshold).float()  # Use dynamic threshold for predictions\n"
   ]
  },
  {
   "cell_type": "code",
   "execution_count": null,
   "metadata": {
    "id": "HAoWZOlXQJnY"
   },
   "outputs": [],
   "source": [
    "# Set parameters\n",
    "input_dim = len(eval(data['embedding'].iloc[0]))  # Dimension of embeddings in the CSV\n",
    "embedding_dim = 192\n",
    "margin = 0.5\n",
    "epochs = 200\n",
    "learning_rate = 0.001\n",
    "# Initialize model, loss, and optimizer\n",
    "model = SiameseNetwork(input_dim, embedding_dim)\n",
    "criterion = CosineContrastiveLoss(margin=margin)\n",
    "optimizer = optim.Adam(model.parameters(), lr=learning_rate, weight_decay=1e-4)\n",
    "# Implementing a learning rate scheduler learning rate with plateau\n",
    "scheduler = optim.lr_scheduler.ReduceLROnPlateau(optimizer, mode='min', factor=0.5, patience=5, verbose=True, min_lr=1e-6)\n",
    "\n"
   ]
  },
  {
   "cell_type": "markdown",
   "metadata": {
    "id": "Io88PooHz6S4"
   },
   "source": [
    "# Metrics and training"
   ]
  },
  {
   "cell_type": "code",
   "execution_count": null,
   "metadata": {
    "id": "jqwwhSKuQCxN"
   },
   "outputs": [],
   "source": [
    "#using cuda instead of cpu for faster computation\n",
    "device = torch.device(\"cuda\" if torch.cuda.is_available() else \"cpu\")\n",
    "model = model.to(device)\n",
    "criterion = criterion.to(device)\n"
   ]
  },
  {
   "cell_type": "code",
   "execution_count": null,
   "metadata": {
    "id": "aeTaIPv0QMgL"
   },
   "outputs": [],
   "source": [
    "# Initialize metrics\n",
    "train_loss_metric = MeanMetric()  # For averaging training loss\n",
    "val_loss_metric = MeanMetric()  # For averaging validation loss\n",
    "test_loss_metric = MeanMetric()   # For averaging test loss\n",
    "accuracy_metric = BinaryAccuracy().to(device)  # For calculating accuracy (binary task)\n",
    "f1_score_metric = F1Score(task='binary', num_classes=2, average='macro').to(device)  # F1 score metric\n",
    "precision_metric = Precision(task='binary', num_classes=2, average='macro').to(device)  # Precision metric\n",
    "recall_metric = Recall(task='binary', num_classes=2, average='macro').to(device)"
   ]
  },
  {
   "cell_type": "code",
   "execution_count": null,
   "metadata": {
    "colab": {
     "base_uri": "https://localhost:8080/"
    },
    "collapsed": true,
    "id": "MUQVVzaCi82m",
    "outputId": "a951218f-787c-4d42-b902-139202d44533"
   },
   "outputs": [
    {
     "name": "stdout",
     "output_type": "stream",
     "text": [
      "Starting training..... \n",
      "\n",
      "Epoch 1/200, Training Loss: 0.2361, Validation Loss: 0.2113, Learning Rate:0.0010000\n",
      "Epoch 2/200, Training Loss: 0.2253, Validation Loss: 0.2256, Learning Rate:0.0010000\n",
      "Epoch 3/200, Training Loss: 0.2240, Validation Loss: 0.2231, Learning Rate:0.0010000\n",
      "Epoch 4/200, Training Loss: 0.2200, Validation Loss: 0.2096, Learning Rate:0.0010000\n",
      "Epoch 5/200, Training Loss: 0.2160, Validation Loss: 0.2301, Learning Rate:0.0010000\n",
      "Epoch 6/200, Training Loss: 0.2174, Validation Loss: 0.2113, Learning Rate:0.0010000\n",
      "Epoch 7/200, Training Loss: 0.2158, Validation Loss: 0.2124, Learning Rate:0.0010000\n",
      "Epoch 8/200, Training Loss: 0.2117, Validation Loss: 0.2087, Learning Rate:0.0010000\n",
      "Epoch 9/200, Training Loss: 0.2119, Validation Loss: 0.2119, Learning Rate:0.0010000\n",
      "Epoch 10/200, Training Loss: 0.2092, Validation Loss: 0.2021, Learning Rate:0.0010000\n",
      "Epoch 11/200, Training Loss: 0.2068, Validation Loss: 0.2094, Learning Rate:0.0010000\n",
      "Epoch 12/200, Training Loss: 0.2017, Validation Loss: 0.1874, Learning Rate:0.0010000\n",
      "Epoch 13/200, Training Loss: 0.2009, Validation Loss: 0.1847, Learning Rate:0.0010000\n",
      "Epoch 14/200, Training Loss: 0.1966, Validation Loss: 0.1828, Learning Rate:0.0010000\n",
      "Epoch 15/200, Training Loss: 0.1914, Validation Loss: 0.2047, Learning Rate:0.0010000\n",
      "Epoch 16/200, Training Loss: 0.1929, Validation Loss: 0.1862, Learning Rate:0.0010000\n",
      "Epoch 17/200, Training Loss: 0.1940, Validation Loss: 0.1932, Learning Rate:0.0010000\n",
      "Epoch 18/200, Training Loss: 0.1868, Validation Loss: 0.1836, Learning Rate:0.0010000\n",
      "Epoch 19/200, Training Loss: 0.1901, Validation Loss: 0.1925, Learning Rate:0.0010000\n",
      "Epoch 20/200, Training Loss: 0.1912, Validation Loss: 0.1757, Learning Rate:0.0010000\n",
      "Epoch 21/200, Training Loss: 0.1884, Validation Loss: 0.1804, Learning Rate:0.0010000\n",
      "Epoch 22/200, Training Loss: 0.1897, Validation Loss: 0.1812, Learning Rate:0.0010000\n",
      "Epoch 23/200, Training Loss: 0.1883, Validation Loss: 0.1793, Learning Rate:0.0010000\n",
      "Epoch 24/200, Training Loss: 0.1856, Validation Loss: 0.1768, Learning Rate:0.0010000\n",
      "Epoch 25/200, Training Loss: 0.1899, Validation Loss: 0.1768, Learning Rate:0.0010000\n",
      "Epoch 26/200, Training Loss: 0.1874, Validation Loss: 0.1830, Learning Rate:0.0005000\n",
      "Epoch 27/200, Training Loss: 0.1851, Validation Loss: 0.1732, Learning Rate:0.0005000\n",
      "Epoch 28/200, Training Loss: 0.1798, Validation Loss: 0.1870, Learning Rate:0.0005000\n",
      "Epoch 29/200, Training Loss: 0.1844, Validation Loss: 0.1787, Learning Rate:0.0005000\n",
      "Epoch 30/200, Training Loss: 0.1830, Validation Loss: 0.1773, Learning Rate:0.0005000\n",
      "Epoch 31/200, Training Loss: 0.1821, Validation Loss: 0.1703, Learning Rate:0.0005000\n",
      "Epoch 32/200, Training Loss: 0.1783, Validation Loss: 0.1779, Learning Rate:0.0005000\n",
      "Epoch 33/200, Training Loss: 0.1792, Validation Loss: 0.1753, Learning Rate:0.0005000\n",
      "Epoch 34/200, Training Loss: 0.1788, Validation Loss: 0.1722, Learning Rate:0.0005000\n",
      "Epoch 35/200, Training Loss: 0.1780, Validation Loss: 0.1769, Learning Rate:0.0005000\n",
      "Epoch 36/200, Training Loss: 0.1777, Validation Loss: 0.1687, Learning Rate:0.0005000\n",
      "Epoch 37/200, Training Loss: 0.1786, Validation Loss: 0.1711, Learning Rate:0.0005000\n",
      "Epoch 38/200, Training Loss: 0.1772, Validation Loss: 0.1642, Learning Rate:0.0005000\n",
      "Epoch 39/200, Training Loss: 0.1797, Validation Loss: 0.1730, Learning Rate:0.0005000\n",
      "Epoch 40/200, Training Loss: 0.1788, Validation Loss: 0.1721, Learning Rate:0.0005000\n",
      "Epoch 41/200, Training Loss: 0.1762, Validation Loss: 0.1696, Learning Rate:0.0005000\n",
      "Epoch 42/200, Training Loss: 0.1753, Validation Loss: 0.1694, Learning Rate:0.0005000\n",
      "Epoch 43/200, Training Loss: 0.1779, Validation Loss: 0.1691, Learning Rate:0.0005000\n",
      "Epoch 44/200, Training Loss: 0.1762, Validation Loss: 0.1698, Learning Rate:0.0002500\n",
      "Epoch 45/200, Training Loss: 0.1755, Validation Loss: 0.1634, Learning Rate:0.0002500\n",
      "Epoch 46/200, Training Loss: 0.1721, Validation Loss: 0.1770, Learning Rate:0.0002500\n",
      "Epoch 47/200, Training Loss: 0.1757, Validation Loss: 0.1572, Learning Rate:0.0002500\n",
      "Epoch 48/200, Training Loss: 0.1731, Validation Loss: 0.1679, Learning Rate:0.0002500\n",
      "Epoch 49/200, Training Loss: 0.1706, Validation Loss: 0.1595, Learning Rate:0.0002500\n",
      "Epoch 50/200, Training Loss: 0.1753, Validation Loss: 0.1532, Learning Rate:0.0002500\n",
      "Epoch 51/200, Training Loss: 0.1736, Validation Loss: 0.1680, Learning Rate:0.0002500\n",
      "Epoch 52/200, Training Loss: 0.1707, Validation Loss: 0.1680, Learning Rate:0.0002500\n",
      "Epoch 53/200, Training Loss: 0.1690, Validation Loss: 0.1669, Learning Rate:0.0002500\n",
      "Epoch 54/200, Training Loss: 0.1693, Validation Loss: 0.1543, Learning Rate:0.0002500\n",
      "Epoch 55/200, Training Loss: 0.1716, Validation Loss: 0.1681, Learning Rate:0.0002500\n",
      "Epoch 56/200, Training Loss: 0.1718, Validation Loss: 0.1619, Learning Rate:0.0001250\n",
      "Epoch 57/200, Training Loss: 0.1668, Validation Loss: 0.1656, Learning Rate:0.0001250\n",
      "Epoch 58/200, Training Loss: 0.1671, Validation Loss: 0.1564, Learning Rate:0.0001250\n",
      "Epoch 59/200, Training Loss: 0.1680, Validation Loss: 0.1539, Learning Rate:0.0001250\n",
      "Epoch 60/200, Training Loss: 0.1666, Validation Loss: 0.1609, Learning Rate:0.0001250\n",
      "Epoch 61/200, Training Loss: 0.1631, Validation Loss: 0.1560, Learning Rate:0.0001250\n",
      "Epoch 62/200, Training Loss: 0.1674, Validation Loss: 0.1582, Learning Rate:0.0000625\n",
      "Epoch 63/200, Training Loss: 0.1674, Validation Loss: 0.1632, Learning Rate:0.0000625\n",
      "Epoch 64/200, Training Loss: 0.1662, Validation Loss: 0.1571, Learning Rate:0.0000625\n",
      "Epoch 65/200, Training Loss: 0.1669, Validation Loss: 0.1572, Learning Rate:0.0000625\n",
      "Epoch 66/200, Training Loss: 0.1630, Validation Loss: 0.1538, Learning Rate:0.0000625\n",
      "Epoch 67/200, Training Loss: 0.1637, Validation Loss: 0.1559, Learning Rate:0.0000625\n",
      "Epoch 68/200, Training Loss: 0.1672, Validation Loss: 0.1530, Learning Rate:0.0000625\n",
      "Epoch 69/200, Training Loss: 0.1630, Validation Loss: 0.1518, Learning Rate:0.0000625\n",
      "Epoch 70/200, Training Loss: 0.1660, Validation Loss: 0.1553, Learning Rate:0.0000625\n",
      "Epoch 71/200, Training Loss: 0.1606, Validation Loss: 0.1485, Learning Rate:0.0000625\n",
      "Epoch 72/200, Training Loss: 0.1661, Validation Loss: 0.1565, Learning Rate:0.0000625\n",
      "Epoch 73/200, Training Loss: 0.1634, Validation Loss: 0.1507, Learning Rate:0.0000625\n",
      "Epoch 74/200, Training Loss: 0.1653, Validation Loss: 0.1552, Learning Rate:0.0000625\n",
      "Epoch 75/200, Training Loss: 0.1648, Validation Loss: 0.1592, Learning Rate:0.0000625\n",
      "Epoch 76/200, Training Loss: 0.1640, Validation Loss: 0.1503, Learning Rate:0.0000625\n",
      "Epoch 77/200, Training Loss: 0.1629, Validation Loss: 0.1488, Learning Rate:0.0000313\n",
      "Epoch 78/200, Training Loss: 0.1629, Validation Loss: 0.1515, Learning Rate:0.0000313\n",
      "Epoch 79/200, Training Loss: 0.1607, Validation Loss: 0.1532, Learning Rate:0.0000313\n",
      "Epoch 80/200, Training Loss: 0.1618, Validation Loss: 0.1534, Learning Rate:0.0000313\n",
      "Epoch 81/200, Training Loss: 0.1636, Validation Loss: 0.1464, Learning Rate:0.0000313\n",
      "Epoch 82/200, Training Loss: 0.1619, Validation Loss: 0.1483, Learning Rate:0.0000313\n",
      "Epoch 83/200, Training Loss: 0.1608, Validation Loss: 0.1525, Learning Rate:0.0000313\n",
      "Epoch 84/200, Training Loss: 0.1620, Validation Loss: 0.1508, Learning Rate:0.0000313\n",
      "Epoch 85/200, Training Loss: 0.1623, Validation Loss: 0.1555, Learning Rate:0.0000313\n",
      "Epoch 86/200, Training Loss: 0.1604, Validation Loss: 0.1491, Learning Rate:0.0000313\n",
      "Epoch 87/200, Training Loss: 0.1631, Validation Loss: 0.1465, Learning Rate:0.0000156\n",
      "Epoch 88/200, Training Loss: 0.1613, Validation Loss: 0.1456, Learning Rate:0.0000156\n",
      "Epoch 89/200, Training Loss: 0.1630, Validation Loss: 0.1508, Learning Rate:0.0000156\n",
      "Epoch 90/200, Training Loss: 0.1622, Validation Loss: 0.1483, Learning Rate:0.0000156\n",
      "Epoch 91/200, Training Loss: 0.1610, Validation Loss: 0.1527, Learning Rate:0.0000156\n",
      "Epoch 92/200, Training Loss: 0.1650, Validation Loss: 0.1456, Learning Rate:0.0000156\n",
      "Epoch 93/200, Training Loss: 0.1611, Validation Loss: 0.1530, Learning Rate:0.0000156\n",
      "Epoch 94/200, Training Loss: 0.1619, Validation Loss: 0.1539, Learning Rate:0.0000156\n",
      "Epoch 95/200, Training Loss: 0.1614, Validation Loss: 0.1465, Learning Rate:0.0000156\n",
      "Epoch 96/200, Training Loss: 0.1645, Validation Loss: 0.1454, Learning Rate:0.0000156\n",
      "Epoch 97/200, Training Loss: 0.1601, Validation Loss: 0.1548, Learning Rate:0.0000156\n",
      "Epoch 98/200, Training Loss: 0.1618, Validation Loss: 0.1498, Learning Rate:0.0000156\n",
      "Epoch 99/200, Training Loss: 0.1602, Validation Loss: 0.1528, Learning Rate:0.0000156\n",
      "Epoch 100/200, Training Loss: 0.1597, Validation Loss: 0.1481, Learning Rate:0.0000156\n",
      "Epoch 101/200, Training Loss: 0.1615, Validation Loss: 0.1523, Learning Rate:0.0000156\n",
      "Epoch 102/200, Training Loss: 0.1622, Validation Loss: 0.1524, Learning Rate:0.0000078\n",
      "Epoch 103/200, Training Loss: 0.1601, Validation Loss: 0.1518, Learning Rate:0.0000078\n",
      "Epoch 104/200, Training Loss: 0.1624, Validation Loss: 0.1504, Learning Rate:0.0000078\n",
      "Epoch 105/200, Training Loss: 0.1616, Validation Loss: 0.1517, Learning Rate:0.0000078\n",
      "Epoch 106/200, Training Loss: 0.1621, Validation Loss: 0.1460, Learning Rate:0.0000078\n",
      "Epoch 107/200, Training Loss: 0.1654, Validation Loss: 0.1483, Learning Rate:0.0000078\n",
      "Epoch 108/200, Training Loss: 0.1598, Validation Loss: 0.1496, Learning Rate:0.0000039\n",
      "Epoch 109/200, Training Loss: 0.1612, Validation Loss: 0.1527, Learning Rate:0.0000039\n",
      "Epoch 110/200, Training Loss: 0.1628, Validation Loss: 0.1543, Learning Rate:0.0000039\n",
      "Epoch 111/200, Training Loss: 0.1606, Validation Loss: 0.1526, Learning Rate:0.0000039\n",
      "Epoch 112/200, Training Loss: 0.1637, Validation Loss: 0.1537, Learning Rate:0.0000039\n",
      "Epoch 113/200, Training Loss: 0.1593, Validation Loss: 0.1563, Learning Rate:0.0000039\n",
      "Epoch 114/200, Training Loss: 0.1616, Validation Loss: 0.1483, Learning Rate:0.0000020\n",
      "Epoch 115/200, Training Loss: 0.1610, Validation Loss: 0.1457, Learning Rate:0.0000020\n",
      "Epoch 116/200, Training Loss: 0.1614, Validation Loss: 0.1478, Learning Rate:0.0000020\n",
      "Epoch 117/200, Training Loss: 0.1616, Validation Loss: 0.1464, Learning Rate:0.0000020\n",
      "Epoch 118/200, Training Loss: 0.1574, Validation Loss: 0.1490, Learning Rate:0.0000020\n",
      "Epoch 119/200, Training Loss: 0.1617, Validation Loss: 0.1465, Learning Rate:0.0000020\n",
      "Epoch 120/200, Training Loss: 0.1625, Validation Loss: 0.1454, Learning Rate:0.0000010\n",
      "Epoch 121/200, Training Loss: 0.1614, Validation Loss: 0.1477, Learning Rate:0.0000010\n",
      "Epoch 122/200, Training Loss: 0.1611, Validation Loss: 0.1498, Learning Rate:0.0000010\n",
      "Epoch 123/200, Training Loss: 0.1609, Validation Loss: 0.1521, Learning Rate:0.0000010\n",
      "Epoch 124/200, Training Loss: 0.1600, Validation Loss: 0.1425, Learning Rate:0.0000010\n",
      "Epoch 125/200, Training Loss: 0.1622, Validation Loss: 0.1448, Learning Rate:0.0000010\n",
      "Epoch 126/200, Training Loss: 0.1592, Validation Loss: 0.1520, Learning Rate:0.0000010\n",
      "Epoch 127/200, Training Loss: 0.1589, Validation Loss: 0.1433, Learning Rate:0.0000010\n",
      "Epoch 128/200, Training Loss: 0.1639, Validation Loss: 0.1521, Learning Rate:0.0000010\n",
      "Epoch 129/200, Training Loss: 0.1615, Validation Loss: 0.1525, Learning Rate:0.0000010\n",
      "Epoch 130/200, Training Loss: 0.1623, Validation Loss: 0.1427, Learning Rate:0.0000010\n",
      "Epoch 131/200, Training Loss: 0.1578, Validation Loss: 0.1553, Learning Rate:0.0000010\n",
      "Epoch 132/200, Training Loss: 0.1617, Validation Loss: 0.1555, Learning Rate:0.0000010\n",
      "Epoch 133/200, Training Loss: 0.1607, Validation Loss: 0.1514, Learning Rate:0.0000010\n",
      "Epoch 134/200, Training Loss: 0.1596, Validation Loss: 0.1509, Learning Rate:0.0000010\n",
      "Epoch 135/200, Training Loss: 0.1583, Validation Loss: 0.1433, Learning Rate:0.0000010\n",
      "Epoch 136/200, Training Loss: 0.1609, Validation Loss: 0.1555, Learning Rate:0.0000010\n",
      "Epoch 137/200, Training Loss: 0.1621, Validation Loss: 0.1485, Learning Rate:0.0000010\n",
      "Epoch 138/200, Training Loss: 0.1577, Validation Loss: 0.1503, Learning Rate:0.0000010\n",
      "Epoch 139/200, Training Loss: 0.1601, Validation Loss: 0.1430, Learning Rate:0.0000010\n",
      "Epoch 140/200, Training Loss: 0.1613, Validation Loss: 0.1529, Learning Rate:0.0000010\n",
      "Epoch 141/200, Training Loss: 0.1609, Validation Loss: 0.1476, Learning Rate:0.0000010\n",
      "Epoch 142/200, Training Loss: 0.1611, Validation Loss: 0.1503, Learning Rate:0.0000010\n",
      "Epoch 143/200, Training Loss: 0.1608, Validation Loss: 0.1547, Learning Rate:0.0000010\n",
      "Epoch 144/200, Training Loss: 0.1612, Validation Loss: 0.1532, Learning Rate:0.0000010\n",
      "Epoch 145/200, Training Loss: 0.1606, Validation Loss: 0.1550, Learning Rate:0.0000010\n",
      "Epoch 146/200, Training Loss: 0.1585, Validation Loss: 0.1499, Learning Rate:0.0000010\n",
      "Epoch 147/200, Training Loss: 0.1605, Validation Loss: 0.1533, Learning Rate:0.0000010\n",
      "Epoch 148/200, Training Loss: 0.1617, Validation Loss: 0.1536, Learning Rate:0.0000010\n",
      "Epoch 149/200, Training Loss: 0.1594, Validation Loss: 0.1485, Learning Rate:0.0000010\n",
      "Epoch 150/200, Training Loss: 0.1575, Validation Loss: 0.1526, Learning Rate:0.0000010\n",
      "Epoch 151/200, Training Loss: 0.1616, Validation Loss: 0.1551, Learning Rate:0.0000010\n",
      "Epoch 152/200, Training Loss: 0.1612, Validation Loss: 0.1512, Learning Rate:0.0000010\n",
      "Epoch 153/200, Training Loss: 0.1599, Validation Loss: 0.1422, Learning Rate:0.0000010\n",
      "Epoch 154/200, Training Loss: 0.1604, Validation Loss: 0.1437, Learning Rate:0.0000010\n",
      "Epoch 155/200, Training Loss: 0.1603, Validation Loss: 0.1532, Learning Rate:0.0000010\n",
      "Epoch 156/200, Training Loss: 0.1607, Validation Loss: 0.1386, Learning Rate:0.0000010\n",
      "Epoch 157/200, Training Loss: 0.1621, Validation Loss: 0.1512, Learning Rate:0.0000010\n",
      "Epoch 158/200, Training Loss: 0.1605, Validation Loss: 0.1500, Learning Rate:0.0000010\n",
      "Epoch 159/200, Training Loss: 0.1611, Validation Loss: 0.1489, Learning Rate:0.0000010\n",
      "Epoch 160/200, Training Loss: 0.1618, Validation Loss: 0.1461, Learning Rate:0.0000010\n",
      "Epoch 161/200, Training Loss: 0.1609, Validation Loss: 0.1500, Learning Rate:0.0000010\n",
      "Epoch 162/200, Training Loss: 0.1594, Validation Loss: 0.1546, Learning Rate:0.0000010\n",
      "Epoch 163/200, Training Loss: 0.1604, Validation Loss: 0.1494, Learning Rate:0.0000010\n",
      "Epoch 164/200, Training Loss: 0.1573, Validation Loss: 0.1493, Learning Rate:0.0000010\n",
      "Epoch 165/200, Training Loss: 0.1627, Validation Loss: 0.1481, Learning Rate:0.0000010\n",
      "Epoch 166/200, Training Loss: 0.1593, Validation Loss: 0.1488, Learning Rate:0.0000010\n",
      "Epoch 167/200, Training Loss: 0.1614, Validation Loss: 0.1447, Learning Rate:0.0000010\n",
      "Epoch 168/200, Training Loss: 0.1614, Validation Loss: 0.1462, Learning Rate:0.0000010\n",
      "Epoch 169/200, Training Loss: 0.1625, Validation Loss: 0.1539, Learning Rate:0.0000010\n",
      "Epoch 170/200, Training Loss: 0.1590, Validation Loss: 0.1501, Learning Rate:0.0000010\n",
      "Epoch 171/200, Training Loss: 0.1641, Validation Loss: 0.1467, Learning Rate:0.0000010\n",
      "Epoch 172/200, Training Loss: 0.1621, Validation Loss: 0.1470, Learning Rate:0.0000010\n",
      "Epoch 173/200, Training Loss: 0.1588, Validation Loss: 0.1541, Learning Rate:0.0000010\n",
      "Epoch 174/200, Training Loss: 0.1612, Validation Loss: 0.1499, Learning Rate:0.0000010\n",
      "Epoch 175/200, Training Loss: 0.1606, Validation Loss: 0.1500, Learning Rate:0.0000010\n",
      "Epoch 176/200, Training Loss: 0.1601, Validation Loss: 0.1456, Learning Rate:0.0000010\n",
      "Epoch 177/200, Training Loss: 0.1589, Validation Loss: 0.1486, Learning Rate:0.0000010\n",
      "Epoch 178/200, Training Loss: 0.1591, Validation Loss: 0.1468, Learning Rate:0.0000010\n",
      "Epoch 179/200, Training Loss: 0.1607, Validation Loss: 0.1523, Learning Rate:0.0000010\n",
      "Epoch 180/200, Training Loss: 0.1599, Validation Loss: 0.1486, Learning Rate:0.0000010\n",
      "Epoch 181/200, Training Loss: 0.1602, Validation Loss: 0.1549, Learning Rate:0.0000010\n",
      "Epoch 182/200, Training Loss: 0.1610, Validation Loss: 0.1528, Learning Rate:0.0000010\n",
      "Epoch 183/200, Training Loss: 0.1608, Validation Loss: 0.1476, Learning Rate:0.0000010\n",
      "Epoch 184/200, Training Loss: 0.1602, Validation Loss: 0.1502, Learning Rate:0.0000010\n",
      "Epoch 185/200, Training Loss: 0.1620, Validation Loss: 0.1528, Learning Rate:0.0000010\n",
      "Epoch 186/200, Training Loss: 0.1577, Validation Loss: 0.1493, Learning Rate:0.0000010\n",
      "Epoch 187/200, Training Loss: 0.1605, Validation Loss: 0.1484, Learning Rate:0.0000010\n",
      "Epoch 188/200, Training Loss: 0.1602, Validation Loss: 0.1450, Learning Rate:0.0000010\n",
      "Epoch 189/200, Training Loss: 0.1612, Validation Loss: 0.1558, Learning Rate:0.0000010\n",
      "Epoch 190/200, Training Loss: 0.1619, Validation Loss: 0.1505, Learning Rate:0.0000010\n",
      "Epoch 191/200, Training Loss: 0.1622, Validation Loss: 0.1532, Learning Rate:0.0000010\n",
      "Epoch 192/200, Training Loss: 0.1628, Validation Loss: 0.1474, Learning Rate:0.0000010\n",
      "Epoch 193/200, Training Loss: 0.1632, Validation Loss: 0.1431, Learning Rate:0.0000010\n",
      "Epoch 194/200, Training Loss: 0.1611, Validation Loss: 0.1516, Learning Rate:0.0000010\n",
      "Epoch 195/200, Training Loss: 0.1603, Validation Loss: 0.1517, Learning Rate:0.0000010\n",
      "Epoch 196/200, Training Loss: 0.1600, Validation Loss: 0.1525, Learning Rate:0.0000010\n",
      "Epoch 197/200, Training Loss: 0.1587, Validation Loss: 0.1487, Learning Rate:0.0000010\n",
      "Epoch 198/200, Training Loss: 0.1618, Validation Loss: 0.1417, Learning Rate:0.0000010\n",
      "Epoch 199/200, Training Loss: 0.1596, Validation Loss: 0.1528, Learning Rate:0.0000010\n",
      "Epoch 200/200, Training Loss: 0.1603, Validation Loss: 0.1558, Learning Rate:0.0000010\n",
      "Training complete.\n"
     ]
    }
   ],
   "source": [
    "# Initialize val_loss to infinity\n",
    "best_val_loss = float('inf')\n",
    "start_epoch = 0  # Default start epoch\n",
    "print(\"Starting training..... \\n\")\n",
    "# Optionally load from checkpoint\n",
    "resume_training = False  # Set to False if starting fresh\n",
    "if resume_training:\n",
    "    checkpoint = torch.load('best_model.pth')\n",
    "\n",
    "    # Load the model weights from the checkpoint\n",
    "    model.load_state_dict(checkpoint['model_state_dict'])\n",
    "\n",
    "    # If needed, you can also load optimizer state and epoch\n",
    "    optimizer.load_state_dict(checkpoint['optimizer_state_dict'])\n",
    "    start_epoch = checkpoint['epoch'] + 1\n",
    "    best_val_loss = checkpoint['best_val_loss']\n",
    "    print(f\"Resuming training from epoch {start_epoch} with best validation loss: {best_val_loss:.4f}\")\n",
    "\n",
    "train_losses = [] # for plotting losses\n",
    "val_losses = [] # plotting\n",
    "\n",
    "for epoch in range(start_epoch, epochs):\n",
    "    # Training loop\n",
    "    model.train()\n",
    "    train_loss_metric.reset()\n",
    "\n",
    "    for embedding1, embedding2, label in train_loader:\n",
    "        embedding1, embedding2, label = embedding1.to(device), embedding2.to(device), label.to(device)\n",
    "        optimizer.zero_grad()\n",
    "        similarity = model(embedding1, embedding2)\n",
    "        loss = criterion(similarity, label)\n",
    "        loss.backward()\n",
    "        optimizer.step()\n",
    "        train_loss_metric.update(loss.item())\n",
    "    train_loss = train_loss_metric.compute() # updated train loss\n",
    "\n",
    "\n",
    "    # Validation loop\n",
    "    model.eval()\n",
    "    val_loss_metric.reset()\n",
    "    with torch.no_grad():\n",
    "        for embedding1, embedding2, label in val_loader:\n",
    "            embedding1, embedding2, label = embedding1.to(device), embedding2.to(device), label.to(device)\n",
    "            similarity = model(embedding1, embedding2)\n",
    "            loss = criterion(similarity, label)\n",
    "            val_loss_metric.update(loss.item())\n",
    "    val_loss = val_loss_metric.compute() # updated val loss\n",
    "\n",
    "    train_losses.append(train_loss)\n",
    "    val_losses.append(val_loss)\n",
    "\n",
    "    scheduler.step(val_loss)\n",
    "    # Get the updated learning rate\n",
    "    lr = optimizer.param_groups[0]['lr']\n",
    "    # Adjust print statement for correct epoch display\n",
    "\n",
    "    print(f\"Epoch {epoch+1}/{epochs}, Training Loss: {train_loss:.4f}, Validation Loss: {val_loss:.4f}, Learning Rate:{lr:.7f}\")\n",
    "\n",
    "    # Checkpointing: Save model if validation loss improves\n",
    "    if val_loss < best_val_loss:\n",
    "        best_val_loss = val_loss\n",
    "        checkpoint = {\n",
    "            'epoch': epoch,\n",
    "            'model_state_dict': model.state_dict(),\n",
    "            'optimizer_state_dict': optimizer.state_dict(),\n",
    "            'best_val_loss': best_val_loss,\n",
    "        }\n",
    "        torch.save(checkpoint, 'best_model.pth')  # Save the checkpoint\n",
    "\n",
    "print(\"Training complete.\")\n"
   ]
  },
  {
   "cell_type": "code",
   "execution_count": null,
   "metadata": {
    "colab": {
     "base_uri": "https://localhost:8080/",
     "height": 564
    },
    "id": "y7GM_AWqQJky",
    "outputId": "a0c090fa-879b-44a7-eebd-c55b9a1d52c3"
   },
   "outputs": [
    {
     "data": {
      "image/png": "[encoded data removed]",
      "text/plain": [
       "<Figure size 1000x600 with 1 Axes>"
      ]
     },
     "metadata": {},
     "output_type": "display_data"
    }
   ],
   "source": [
    "# Final loss curve after training\n",
    "plt.figure(figsize=(10, 6))\n",
    "plt.plot(train_losses, label='Training Loss', color='blue')\n",
    "plt.plot(val_losses, label='Validation Loss', color='orange')\n",
    "plt.xlabel('Epochs')\n",
    "plt.ylabel('Loss')\n",
    "plt.title('Training vs Validation Loss Curve')\n",
    "plt.legend()\n",
    "plt.grid()\n",
    "plt.show()"
   ]
  },
  {
   "cell_type": "code",
   "execution_count": null,
   "metadata": {
    "colab": {
     "base_uri": "https://localhost:8080/"
    },
    "id": "D5VsM_9Mi9nD",
    "outputId": "002d66e9-b5ae-4250-b416-6f54a8454c35"
   },
   "outputs": [
    {
     "name": "stdout",
     "output_type": "stream",
     "text": [
      "Testing and evaluating...\n",
      "\n",
      "Test Loss: 0.1514\n",
      "Accuracy: 0.7275\n",
      "Precision: 0.6766\n",
      "Recall: 0.8717\n",
      "F1 Score: 0.7618\n",
      "Test results saved to test_results.txt\n"
     ]
    }
   ],
   "source": [
    "#------------------------------------------------------------------------\n",
    "#            Testing\n",
    "#------------------------------------------------------------------------\n",
    "\n",
    "print(\"Testing and evaluating...\\n\")\n",
    "# Testing loop with unseen test data\n",
    "\n",
    "# Open a text file to save the outputs\n",
    "output_file = 'test_results.txt'\n",
    "\n",
    "# Initialize your metrics and model evaluation\n",
    "model.eval()\n",
    "test_loss_metric.reset()\n",
    "accuracy_metric.reset()\n",
    "f1_score_metric.reset()\n",
    "precision_metric.reset()\n",
    "recall_metric.reset()\n",
    "\n",
    "\n",
    "# Testing loop with unseen test data\n",
    "with torch.no_grad():\n",
    "  for embedding1, embedding2, label in test_loader:\n",
    "    embedding1, embedding2, label = embedding1.to(device), embedding2.to(device), label.to(device)\n",
    "    # Model prediction\n",
    "    similarity = model(embedding1, embedding2)  # Get similarity score\n",
    "    loss = criterion(similarity, label)\n",
    "    test_loss_metric.update(loss.item())\n",
    "\n",
    "    # Dynamic thresholding for binary classification\n",
    "    batch_similarity = similarity  # Assuming similarity is a tensor\n",
    "    dynamic_predictions = dynamic_cosine_threshold(similarity, batch_similarity)\n",
    "\n",
    "\n",
    "    accuracy_metric.update(dynamic_predictions, label)\n",
    "    f1_score_metric.update(dynamic_predictions, label)\n",
    "    precision_metric.update(dynamic_predictions, label)\n",
    "    recall_metric.update(dynamic_predictions, label)\n",
    "\n",
    "test_loss = test_loss_metric.compute()\n",
    "accuracy = accuracy_metric.compute()\n",
    "f1_score = f1_score_metric.compute()\n",
    "precision = precision_metric.compute()\n",
    "recall = recall_metric.compute()\n",
    "\n",
    "# Print and save metrics\n",
    "with open(output_file, 'a') as f:  # Append mode for metrics\n",
    "    f.write(\"\\nMetrics:\\n\")\n",
    "    f.write(f\"Test Loss: {test_loss:.4f}\\n\")\n",
    "    f.write(f\"Accuracy: {accuracy:.4f}\\n\")\n",
    "    f.write(f\"Precision: {precision:.4f}\\n\")\n",
    "    f.write(f\"Recall: {recall:.4f}\\n\")\n",
    "    f.write(f\"F1 Score: {f1_score:.4f}\\n\")\n",
    "\n",
    "# Print results to console\n",
    "print(f\"Test Loss: {test_loss:.4f}\")\n",
    "print(f\"Accuracy: {accuracy:.4f}\")\n",
    "print(f\"Precision: {precision:.4f}\")\n",
    "print(f\"Recall: {recall:.4f}\")\n",
    "print(f\"F1 Score: {f1_score:.4f}\")\n",
    "print(f\"Test results saved to {output_file}\")\n"
   ]
  },
  {
   "cell_type": "code",
   "execution_count": null,
   "metadata": {
    "colab": {
     "base_uri": "https://localhost:8080/",
     "height": 489
    },
    "id": "t_nGo7stQRAJ",
    "outputId": "5d2a60df-c933-4dd0-8238-3eb424bb2ccb"
   },
   "outputs": [
    {
     "data": {
      "text/plain": [
       "<Figure size 500x400 with 0 Axes>"
      ]
     },
     "metadata": {},
     "output_type": "display_data"
    },
    {
     "data": {
      "image/png": "[encoded data removed]",
      "text/plain": [
       "<Figure size 640x480 with 2 Axes>"
      ]
     },
     "metadata": {},
     "output_type": "display_data"
    }
   ],
   "source": [
    "# Generate confusion matrix\n",
    "true_labels = []\n",
    "predicted_labels = []\n",
    "\n",
    "for embedding1, embedding2, label in test_loader:\n",
    "    embedding1, embedding2, label = embedding1.to(device), embedding2.to(device), label.to(device)\n",
    "    similarity = model(embedding1, embedding2)\n",
    "    predictions = dynamic_cosine_threshold(similarity, similarity.mean())\n",
    "    true_labels.extend(label.cpu().numpy())\n",
    "    predicted_labels.extend(predictions.cpu().numpy())\n",
    "\n",
    "cm = confusion_matrix(true_labels, predicted_labels)\n",
    "disp = ConfusionMatrixDisplay(confusion_matrix=cm, display_labels=['Healthy', 'Patient'])\n",
    "\n",
    "# Plot confusion matrix\n",
    "plt.figure(figsize=(5, 4))\n",
    "disp.plot(cmap='Blues')\n",
    "plt.title('Confusion Matrix')\n",
    "plt.show()\n",
    "\n"
   ]
  }
 ],
 "metadata": {
  "accelerator": "GPU",
  "colab": {
   "gpuType": "T4",
   "provenance": []
  },
  "kernelspec": {
   "display_name": "Python 3",
   "name": "python3"
  },
  "language_info": {
   "name": "python"
  }
 },
 "nbformat": 4,
 "nbformat_minor": 0
}
