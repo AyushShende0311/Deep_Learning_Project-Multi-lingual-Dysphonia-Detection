{
  "nbformat": 4,
  "nbformat_minor": 0,
  "metadata": {
    "colab": {
      "provenance": []
    },
    "kernelspec": {
      "name": "python3",
      "display_name": "Python 3"
    },
    "language_info": {
      "name": "python"
    }
  },
  "cells": [
    {
      "cell_type": "code",
      "execution_count": 1,
      "metadata": {
        "colab": {
          "base_uri": "https://localhost:8080/"
        },
        "id": "zhnjVoW-RxYv",
        "outputId": "922bee63-8ac6-461f-d578-7ff0a5af197f"
      },
      "outputs": [
        {
          "output_type": "stream",
          "name": "stdout",
          "text": [
            "Mounted at /content/drive/\n"
          ]
        }
      ],
      "source": [
        "from google.colab import drive\n",
        "drive.mount('/content/drive/')"
      ]
    },
    {
      "cell_type": "code",
      "source": [
        "import os\n",
        "import librosa\n",
        "import soundfile as sf"
      ],
      "metadata": {
        "id": "4ja2zFHqSHy-"
      },
      "execution_count": 2,
      "outputs": []
    },
    {
      "cell_type": "code",
      "source": [
        "print(os.listdir('/content/drive/My Drive/Dysphonia English/Healthy'))"
      ],
      "metadata": {
        "colab": {
          "base_uri": "https://localhost:8080/"
        },
        "id": "2trWwtCeSJVM",
        "outputId": "e4e176f5-3719-4599-811b-b53965a46737"
      },
      "execution_count": 3,
      "outputs": [
        {
          "output_type": "stream",
          "name": "stdout",
          "text": [
            "['Female', 'Male', 'female_chunked', 'male_chunked']\n"
          ]
        }
      ]
    },
    {
      "cell_type": "code",
      "source": [
        "# Function to chunk and save audio files\n",
        "def chunk_audio_in_folder(source_dir, output_dir, chunk_duration=7, overlap_duration=2):\n",
        "    # Create the output directory if it doesn't exist\n",
        "    os.makedirs(output_dir, exist_ok=True)\n",
        "\n",
        "    # Loop through all .wav files in the source directory\n",
        "    for file_name in os.listdir(source_dir):\n",
        "        if file_name.endswith('.wav'):\n",
        "            # Load the audio file\n",
        "            audio_path = os.path.join(source_dir, file_name)\n",
        "            audio, sr = librosa.load(audio_path, sr=None)\n",
        "\n",
        "            # Define chunk size and overlap in samples\n",
        "            chunk_size = chunk_duration * sr  # Convert seconds to samples\n",
        "            overlap_size = overlap_duration * sr  # Convert seconds to samples\n",
        "            chunks = []\n",
        "\n",
        "            # Split the audio into chunks\n",
        "            for i in range(0, len(audio), chunk_size - overlap_size):\n",
        "                current_chunk_size = min(chunk_size, len(audio) - i)\n",
        "                chunk = audio[i: i + current_chunk_size]\n",
        "                chunks.append(chunk)\n",
        "\n",
        "            # Save each chunk with a unique name\n",
        "            for n, chunk in enumerate(chunks):\n",
        "                output_path = os.path.join(output_dir, f'{file_name.split(\".\")[0]}_chunk_{n}.wav')\n",
        "                sf.write(output_path, chunk, sr)\n",
        "\n",
        "    print(f\"Processed {source_dir} and saved chunks in {output_dir}.\")\n",
        "\n",
        "# Example: List of folder pairs (source, output)\n",
        "folders = [\n",
        "    {'source': '/content/drive/My Drive/Dysphonia English/Healthy/Female', 'output': '/content/drive/My Drive/Dysphonia English/Healthy/female_chunked'},\n",
        "    {'source': '/content/drive/My Drive/Dysphonia English/Healthy/Male', 'output': '/content/drive/My Drive/Dysphonia English/Healthy/male_chunked'},\n",
        "    {'source': '/content/drive/My Drive/Dysphonia English/Patient/Female', 'output': '/content/drive/My Drive/Dysphonia English/Patient/female_chunked'},\n",
        "    {'source': '/content/drive/My Drive/Dysphonia English/Patient/Male', 'output': '/content/drive/My Drive/Dysphonia English/Patient/male_chunked'},\n",
        "\n",
        "    {'source': '/content/drive/My Drive/Dysphonia Hungarian/Healthy/Female', 'output': '/content/drive/My Drive/Dysphonia Hungarian/Healthy/female_chunked'},\n",
        "    {'source': '/content/drive/My Drive/Dysphonia Hungarian/Healthy/Male', 'output': '/content/drive/My Drive/Dysphonia Hungarian/Healthy/male_chunked'},\n",
        "    {'source': '/content/drive/My Drive/Dysphonia Hungarian/Patient/Male', 'output': '/content/drive/My Drive/Dysphonia Hungarian/Patient/male_chunked'},\n",
        "    {'source': '/content/drive/My Drive/Dysphonia Hungarian/Patient/Female', 'output': '/content/drive/My Drive/Dysphonia Hungarian/Patient/female_chunked'},\n",
        "\n",
        "    {'source': '/content/drive/My Drive/Dysphonia Dutch/Healthy/Female', 'output': '/content/drive/My Drive/Dysphonia Dutch/Healthy/female_chunked'},\n",
        "    {'source': '/content/drive/My Drive/Dysphonia Dutch/Healthy/Male', 'output': '/content/drive/My Drive/Dysphonia Dutch/Healthy/male_chunked'},\n",
        "    {'source': '/content/drive/My Drive/Dysphonia Dutch/Patient/Female', 'output': '/content/drive/My Drive/Dysphonia Dutch/Patient/female_chunked'},\n",
        "    {'source': '/content/drive/My Drive/Dysphonia Dutch/Patient/Male', 'output': '/content/drive/My Drive/Dysphonia Dutch/Patient/male_chunked'},\n",
        "\n",
        "    {'source': '/content/drive/My Drive/Dysphonia Portuguese/Healthy/Female', 'output': '/content/drive/My Drive/Dysphonia Portuguese/Healthy/female_chunked'},\n",
        "    {'source': '/content/drive/My Drive/Dysphonia Portuguese/Healthy/Male', 'output': '/content/drive/My Drive/Dysphonia Portuguese/Healthy/male_chunked'},\n",
        "    {'source': '/content/drive/My Drive/Dysphonia Portuguese/Patient/Female', 'output': '/content/drive/My Drive/Dysphonia Portuguese/Patient/female_chunked'},\n",
        "    {'source': '/content/drive/My Drive/Dysphonia Portuguese/Patient/Male', 'output': '/content/drive/My Drive/Dysphonia Portuguese/Patient/male_chunked'},\n",
        "\n",
        "]\n",
        "\n",
        "# Loop through each folder and process\n",
        "for folder in folders:\n",
        "    chunk_audio_in_folder(folder['source'], folder['output'])"
      ],
      "metadata": {
        "colab": {
          "base_uri": "https://localhost:8080/"
        },
        "id": "Fj0Hw9IUSNzF",
        "outputId": "2ff20b9c-aa6e-46d9-a3c7-ae3360f15aa2"
      },
      "execution_count": 4,
      "outputs": [
        {
          "output_type": "stream",
          "name": "stdout",
          "text": [
            "Processed /content/drive/My Drive/Dysphonia Portuguese/Healthy/Female and saved chunks in /content/drive/My Drive/Dysphonia Portuguese/Healthy/female_chunked.\n",
            "Processed /content/drive/My Drive/Dysphonia Portuguese/Healthy/Male and saved chunks in /content/drive/My Drive/Dysphonia Portuguese/Healthy/male_chunked.\n",
            "Processed /content/drive/My Drive/Dysphonia Portuguese/Patient/Female and saved chunks in /content/drive/My Drive/Dysphonia Portuguese/Patient/female_chunked.\n",
            "Processed /content/drive/My Drive/Dysphonia Portuguese/Patient/Male and saved chunks in /content/drive/My Drive/Dysphonia Portuguese/Patient/male_chunked.\n"
          ]
        }
      ]
    }
  ]
}