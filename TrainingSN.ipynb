{
  "nbformat": 4,
  "nbformat_minor": 0,
  "metadata": {
    "colab": {
      "provenance": [],
      "gpuType": "T4"
    },
    "kernelspec": {
      "name": "python3",
      "display_name": "Python 3"
    },
    "language_info": {
      "name": "python"
    },
    "accelerator": "GPU"
  },
  "cells": [
    {
      "cell_type": "code",
      "execution_count": 1,
      "metadata": {
        "colab": {
          "base_uri": "https://localhost:8080/"
        },
        "id": "IqX1DQdBETXh",
        "outputId": "78eee303-fa28-4b4f-b419-65c2ad2cf387"
      },
      "outputs": [
        {
          "output_type": "stream",
          "name": "stdout",
          "text": [
            "Mounted at /content/drive/\n"
          ]
        }
      ],
      "source": [
        "from google.colab import drive\n",
        "drive.mount('/content/drive/')"
      ]
    },
    {
      "cell_type": "code",
      "source": [
        "!pip install -q torchmetrics"
      ],
      "metadata": {
        "id": "17-z77gQ_S9Z"
      },
      "execution_count": 6,
      "outputs": []
    },
    {
      "cell_type": "code",
      "source": [
        "import pandas as pd\n",
        "import torch\n",
        "from torch.utils.data import Dataset, DataLoader\n",
        "import torch.nn as nn\n",
        "import torch.nn.functional as F\n",
        "import torch.optim as optim\n",
        "from sklearn.model_selection import train_test_split\n",
        "from torchmetrics.classification import BinaryAccuracy, F1Score, Precision, Recall\n",
        "from torchmetrics import MeanMetric"
      ],
      "metadata": {
        "id": "xmFUD-NQE0qj"
      },
      "execution_count": 34,
      "outputs": []
    },
    {
      "cell_type": "code",
      "source": [
        "import os\n",
        "print(\"Current working directory:\", os.getcwd())"
      ],
      "metadata": {
        "colab": {
          "base_uri": "https://localhost:8080/"
        },
        "id": "BXuEw_LxF3Wq",
        "outputId": "a3893d3e-5e9e-4e7b-c18d-2ddd5cb02d9e"
      },
      "execution_count": 22,
      "outputs": [
        {
          "output_type": "stream",
          "name": "stdout",
          "text": [
            "Current working directory: /content\n"
          ]
        }
      ]
    },
    {
      "cell_type": "code",
      "source": [
        "data = pd.read_csv('/content/drive/MyDrive/embeddings.csv')"
      ],
      "metadata": {
        "id": "XAqtHq7dFQIP"
      },
      "execution_count": 23,
      "outputs": []
    },
    {
      "cell_type": "code",
      "source": [
        "data.reset_index(drop=True, inplace=True)"
      ],
      "metadata": {
        "id": "uuT8qFMbDQL7"
      },
      "execution_count": 41,
      "outputs": []
    },
    {
      "cell_type": "code",
      "source": [
        "train_data, test_data = train_test_split(data, test_size=0.2, random_state=42)"
      ],
      "metadata": {
        "id": "as3Bpbv16ulA"
      },
      "execution_count": 25,
      "outputs": []
    },
    {
      "cell_type": "code",
      "source": [
        "# Defining a custom dataset for Siamese network pairs\n",
        "class DysphoniaPairsDataset(Dataset):\n",
        "    def __init__(self, data):\n",
        "        self.data = data\n",
        "        self.embeddings = data['embedding'].apply(lambda x: torch.tensor(eval(x), dtype=torch.float32))  # Assuming embeddings are stored as strings\n",
        "        self.labels = data['category'].map({'healthy': 0, 'patient': 1})\n",
        "\n",
        "    def __len__(self):\n",
        "        return len(self.data)\n",
        "\n",
        "    def __getitem__(self, idx):\n",
        "        # Get two random samples, ensure one is similar or dissimilar based on idx parity\n",
        "        row1 = self.data.iloc[idx]\n",
        "        label1 = self.labels.iloc[idx]\n",
        "\n",
        "        # Create positive or negative pairs\n",
        "        if idx % 2 == 0:  # Positive pair\n",
        "            row2 = self.data[self.labels == label1].sample(1).iloc[0]\n",
        "            label = 1\n",
        "        else:  # Negative pair\n",
        "            row2 = self.data[self.labels != label1].sample(1).iloc[0]\n",
        "            label = 0\n",
        "\n",
        "        # Convert to tensors\n",
        "        embedding1 = torch.tensor(eval(row1['embedding']), dtype=torch.float32)\n",
        "        embedding2 = torch.tensor(eval(row2['embedding']), dtype=torch.float32)\n",
        "\n",
        "        return embedding1, embedding2, torch.tensor(label, dtype=torch.float32)\n",
        "\n"
      ],
      "metadata": {
        "id": "bRPIYcaJGDOP"
      },
      "execution_count": 39,
      "outputs": []
    },
    {
      "cell_type": "code",
      "source": [
        "# Create DataLoaders for training and testing\n",
        "train_dataset = DysphoniaPairsDataset(train_data)\n",
        "test_dataset = DysphoniaPairsDataset(test_data)\n",
        "train_loader = DataLoader(train_dataset, batch_size=32, shuffle=True)\n",
        "test_loader = DataLoader(test_dataset, batch_size=32, shuffle=False)"
      ],
      "metadata": {
        "id": "aRJ7V1N368p8"
      },
      "execution_count": 27,
      "outputs": []
    },
    {
      "cell_type": "markdown",
      "source": [
        "SAIMESE NETWORK"
      ],
      "metadata": {
        "id": "wby-fKnmdNrJ"
      }
    },
    {
      "cell_type": "code",
      "source": [
        "# Define the sub-network for embedding generation\n",
        "class EmbeddingNet(nn.Module):\n",
        "    def __init__(self, input_dim, output_dim):\n",
        "        super(EmbeddingNet, self).__init__()\n",
        "        self.fc = nn.Sequential(\n",
        "            nn.Linear(input_dim, 128),\n",
        "            nn.ReLU(),\n",
        "            nn.Linear(128, output_dim)\n",
        "        )\n",
        "\n",
        "    def forward(self, x):\n",
        "        return self.fc(x)\n",
        "\n",
        "class SiameseNetwork(nn.Module):\n",
        "    def __init__(self, input_dim, embedding_dim):\n",
        "        super(SiameseNetwork, self).__init__()\n",
        "        self.embedding_net = EmbeddingNet(input_dim, embedding_dim)\n",
        "\n",
        "    def forward(self, input1, input2):\n",
        "        # Get embeddings for both inputs\n",
        "        output1 = self.embedding_net(input1)\n",
        "        output2 = self.embedding_net(input2)\n",
        "        # Calculate cosine similarity\n",
        "        similarity = F.cosine_similarity(output1, output2, dim=1)\n",
        "        return similarity"
      ],
      "metadata": {
        "id": "r_kc3esgc1MU"
      },
      "execution_count": 28,
      "outputs": []
    },
    {
      "cell_type": "markdown",
      "source": [
        "Updating the loss function"
      ],
      "metadata": {
        "id": "nz1K65iEdQRt"
      }
    },
    {
      "cell_type": "code",
      "source": [
        "class CosineContrastiveLoss(nn.Module):\n",
        "    def __init__(self, margin=0.5):\n",
        "        super(CosineContrastiveLoss, self).__init__()\n",
        "        self.margin = margin\n",
        "\n",
        "    def forward(self, similarity, label):\n",
        "        # For similar pairs (label == 1), maximize similarity\n",
        "        # For dissimilar pairs (label == 0), ensure similarity is below margin\n",
        "        loss = label * (1 - similarity) + (1 - label) * F.relu(similarity - self.margin)\n",
        "        return loss.mean()"
      ],
      "metadata": {
        "id": "HoY3PltpdKa-"
      },
      "execution_count": 29,
      "outputs": []
    },
    {
      "cell_type": "code",
      "source": [
        "# Set parameters\n",
        "input_dim = len(eval(data['embedding'].iloc[0]))  # Dimension of embeddings in the CSV\n",
        "embedding_dim = 32  # Dimension of output embedding\n",
        "margin = 0.5\n",
        "epochs = 10\n",
        "learning_rate = 0.001\n",
        "\n",
        "# Initialize model, loss, and optimizer\n",
        "model = SiameseNetwork(input_dim, embedding_dim)\n",
        "criterion = CosineContrastiveLoss(margin=margin)\n",
        "optimizer = optim.Adam(model.parameters(), lr=learning_rate)\n"
      ],
      "metadata": {
        "id": "NRMkeVDoAffH"
      },
      "execution_count": 30,
      "outputs": []
    },
    {
      "cell_type": "code",
      "source": [
        "# Initialize metrics\n",
        "train_loss_metric = MeanMetric()  # For averaging training loss\n",
        "test_loss_metric = MeanMetric()   # For averaging test loss\n",
        "accuracy_metric = BinaryAccuracy()  # For calculating accuracy (binary task)\n",
        "f1_score_metric = F1Score(task='binary', num_classes=2, average='macro')  # F1 score metric\n",
        "precision_metric = Precision(task='binary', num_classes=2, average='macro')  # Precision metric\n",
        "recall_metric = Recall(task='binary', num_classes=2, average='macro')\n",
        "\n",
        "for epoch in range(epochs):\n",
        "  #training loop\n",
        "    model.train()\n",
        "    train_loss_metric.reset()\n",
        "\n",
        "    for embedding1, embedding2, label in train_loader:\n",
        "        optimizer.zero_grad()\n",
        "        # Forward pass\n",
        "        similarity = model(embedding1, embedding2)\n",
        "        loss = criterion(similarity, label)\n",
        "\n",
        "        # Backward pass and optimization\n",
        "        loss.backward()\n",
        "        optimizer.step()\n",
        "        train_loss_metric.update(loss.item())\n",
        "\n",
        "    # testing loop\n",
        "    model.eval()\n",
        "    test_loss_metric.reset()\n",
        "    accuracy_metric.reset()\n",
        "    f1_score_metric.reset()\n",
        "    precision_metric.reset()\n",
        "    recall_metric.reset()\n",
        "\n",
        "    with torch.no_grad():\n",
        "        for embedding1, embedding2, label in test_loader:\n",
        "            similarity = model(embedding1, embedding2)\n",
        "            loss = criterion(similarity, label)\n",
        "            test_loss_metric.update(loss.item())\n",
        "\n",
        "            predictions = (similarity > 0.5).float()\n",
        "            accuracy_metric.update(predictions, label)\n",
        "            f1_score_metric.update(predictions, label)\n",
        "            precision_metric.update(predictions, label)\n",
        "            recall_metric.update(predictions, label)\n",
        "\n",
        "    # Print metrics\n",
        "    train_loss = train_loss_metric.compute()\n",
        "    test_loss = test_loss_metric.compute()\n",
        "    accuracy = accuracy_metric.compute()\n",
        "    f1_score = f1_score_metric.compute()\n",
        "    precision = precision_metric.compute()\n",
        "    recall = recall_metric.compute()\n",
        "\n",
        "    print(f\"Epoch [{epoch+1}/{epochs}], Training Loss: {train_loss/len(train_loader):.4f}, Test Loss: {test_loss/len(test_loader):.4f}, Accuracy: {accuracy:.4f}\")\n",
        "\n",
        "final_accuracy = accuracy_metric.compute()\n",
        "final_f1_score = f1_score_metric.compute()\n",
        "final_precision = precision_metric.compute()\n",
        "final_recall = recall_metric.compute()\n",
        "print(\"Training complete.\")\n",
        "print(f\"Accuracy: {final_accuracy:.4f}, Precision: {final_precision:.4f}, Recall: {final_recall:.4f}, F1 Score: {final_f1_score:.4f}\")\n"
      ],
      "metadata": {
        "colab": {
          "base_uri": "https://localhost:8080/"
        },
        "id": "PgZKGTdpd85n",
        "outputId": "ae91118a-6670-40cf-ad5b-8dac2b2157c8"
      },
      "execution_count": 40,
      "outputs": [
        {
          "output_type": "stream",
          "name": "stdout",
          "text": [
            "Epoch [1/10], Training Loss: 0.0011, Test Loss: 0.0045, Accuracy: 0.5003\n",
            "Epoch [2/10], Training Loss: 0.0011, Test Loss: 0.0044, Accuracy: 0.5003\n",
            "Epoch [3/10], Training Loss: 0.0010, Test Loss: 0.0037, Accuracy: 0.5488\n",
            "Epoch [4/10], Training Loss: 0.0009, Test Loss: 0.0036, Accuracy: 0.5623\n",
            "Epoch [5/10], Training Loss: 0.0009, Test Loss: 0.0037, Accuracy: 0.5725\n",
            "Epoch [6/10], Training Loss: 0.0009, Test Loss: 0.0036, Accuracy: 0.5945\n",
            "Epoch [7/10], Training Loss: 0.0009, Test Loss: 0.0036, Accuracy: 0.5725\n",
            "Epoch [8/10], Training Loss: 0.0008, Test Loss: 0.0036, Accuracy: 0.5759\n",
            "Epoch [9/10], Training Loss: 0.0009, Test Loss: 0.0035, Accuracy: 0.5860\n",
            "Epoch [10/10], Training Loss: 0.0009, Test Loss: 0.0036, Accuracy: 0.5341\n",
            "Training complete.\n",
            "Accuracy: 0.5341, Precision: 0.5185, Recall: 0.9651, F1 Score: 0.6745\n"
          ]
        }
      ]
    }
  ]
}